{
"nbformat": 4,
"nbformat_minor": 0,
"metadata": {
"colab": {
"name": "script_targets.ipynb",
"version": "0.3.2",
"provenance": []
},
"kernelspec": {
"display_name": "Python 3",
"language": "python",
"name": "python3"
}
},
"cells": [
{
"metadata": {
"id": "2zA2putzLtyn",
"colab_type": "code",
"colab": {}
},
"cell_type": "code",
"source": [
"f = open('targets_associated_with_allergy.csv','r')\n",
"line = f.readline()\n",
"genes = []\n",
"\n",
"for line in f:\n",
"    line = line.split(',')\n",
"    genes.append(line[0])\n",
"    \n",
"print(genes)\n",
"print(len(genes))\n",
"\n",
"f.close()\n"
],
"execution_count": 0,
"outputs": []
},
{
"metadata": {
"id": "SIbJxtOtLtyv",
"colab_type": "code",
"colab": {}
},
"cell_type": "code",
"source": [
"g = open('hgnc_cc_zero_filtered_anno.csv','r')\n",
"l = g.readline()\n",
"annotation = {}\n",
"\n",
"for l in g:\n",
"    l = l.split(',')\n",
"    annotation[l[0]]=l[6].split('@')[1]\n",
"\n",
"#print(annotation)\n",
"\n",
"g.close()\n",
"\n",
"targets = []\n",
"targets_official = []\n",
"for gene in genes:\n",
"    for k,v in annotation.items():\n",
"        if gene == v:\n",
"            targets_official.append([k,v])\n",
"            targets.append(k)\n",
"            \n",
"#print(targets)\n",
"print(len(targets))"
],
"execution_count": 0,
"outputs": []
},
{
"metadata": {
"id": "TtFZbmmZLtyz",
"colab_type": "code",
"colab": {}
},
"cell_type": "code",
"source": [
"h = open('targets.txt','w')\n",
"for t in targets_official:\n",
"    h.write(t+'\\n')\n",
"h.close()"
],
"execution_count": 0,
"outputs": []
},
{
"metadata": {
"id": "a22JeQwNLty2",
"colab_type": "code",
"colab": {
"base_uri": "https://localhost:8080/",
"height": 237
},
"outputId": "e993153c-e4b9-4e64-d015-e3f298ac27a1",
"executionInfo": {
"status": "error",
"timestamp": 1539950435997,
"user_tz": -120,
"elapsed": 675,
"user": {
"displayName": "Giulia Marianini",
"photoUrl": "",
"userId": "13145507418361117014"
}
}
},
"cell_type": "code",
"source": [
"done = open('genehome PC-IM history.csv')\n",
"for x in range(7):\n",
"    done.readline()\n",
"    \n",
"id_done = []\n",
"for line in done:\n",
"    line = line.split(',')\n",
"    id_donei.append(line[2].strip('\"').split('-')[0])\n",
"print(len(id_done))\n",
"    \n",
"nostri_done = list(set(id_done) & set(targets))\n",
"for_walter = [i for i in targets_official if not i[0] in id_done]\n",
"print(len(nostri_done))\n",
"#print(nostri_done)\n",
"print(len(for_walter))\n",
"print(for_walter)"
],
"execution_count": 4,
"outputs": [
]
},
{
"metadata": {
"id": "Y5Kq5KM1MgYY",
"colab_type": "code",
"colab": {
"base_uri": "https://localhost:8080/",
"height": 237
},
"outputId": "c4d59c55-4e79-4bcf-9c24-5ab73665d8e7",
"executionInfo": {
"status": "error",
"timestamp": 1540389483428,
"user_tz": -120,
"elapsed": 595,
"user": {
"displayName": "Giulia Marianini",
"photoUrl": "",
"userId": "13145507418361117014"
}
}
},
"cell_type": "code",
"source": [
"for id in for_walter:\n",
"    filename=id[0]+'-'+id[1]+'.txt'\n",
"    testo=id[0]+','+id[0]\n",
"    f = open(filename, 'w')\n",
"    f.write('from,to'+'\\n')\n",
"    f.write(testo)\n",
"    f.close()"
],
"execution_count": 1,
"outputs": []
}
]
}
